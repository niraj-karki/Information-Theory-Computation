{
 "cells": [
  {
   "cell_type": "markdown",
   "id": "ebe40b6b",
   "metadata": {},
   "source": [
    "# 3.2"
   ]
  },
  {
   "cell_type": "markdown",
   "id": "eaeedcb2",
   "metadata": {},
   "source": [
    "## Approach\n",
    "\n",
    "We used the same functions that we created in the first part of the project but we did combine all those into one function called *gain*. This function returns a dictionary which includes two key-value pairs where the keys are **Entropy** and **InfoGain**. Both of these have a dictionary value which includes information on the entropy and information gain for the variables that gets passed while calling the function."
   ]
  },
  {
   "cell_type": "code",
   "execution_count": 14,
   "id": "91679b9d",
   "metadata": {},
   "outputs": [],
   "source": [
    "# Imporing the required library\n",
    "import pandas as pd\n",
    "import math"
   ]
  },
  {
   "cell_type": "code",
   "execution_count": 15,
   "id": "b805421a",
   "metadata": {},
   "outputs": [],
   "source": [
    "def gain(**kwargs):\n",
    "    try:\n",
    "        df = pd.read_csv(list(kwargs.values())[0], sep=\" \")\n",
    "    except TypeError:\n",
    "        df = list(kwargs.values())[0]\n",
    "    d = {}\n",
    "    \n",
    "    for i in df[list(kwargs.values())[1]].unique():\n",
    "        d['Prob_'+list(kwargs.values())[1]+'_'+i] = df[df[list(kwargs.values())[1]] == i].shape[0]/df.shape[0]\n",
    "\n",
    "\n",
    "    for i in df[list(kwargs.values())[1]].unique():\n",
    "        for a in range(2,len(kwargs)):\n",
    "            for j in df[list(kwargs.values())[a]].unique():\n",
    "                d[\"prob_\"+list(kwargs.values())[a]+'_'+j+\"_\"+i] = df[df[list(kwargs.values())[1]] == i][df[df[list(kwargs.values())[1]] == i][list(kwargs.values())[a]] == j].shape[0] / df[df[list(kwargs.values())[a]] == j].shape[0]\n",
    "    \n",
    "\n",
    "    entr = {}\n",
    "    cls_ent = 0\n",
    "    for i in df[list(kwargs.values())[1]].unique():\n",
    "        cls_ent += (-d['Prob_'+list(kwargs.values())[1]+\"_\"+i])*math.log2(d['Prob_'+list(kwargs.values())[1]+\"_\"+i])\n",
    "        \n",
    "    entr[\"ent_\"+list(kwargs.values())[1]] = cls_ent\n",
    "    \n",
    "    key_list = list(d.keys())\n",
    "    for b in range(2,len(kwargs)):\n",
    "        for j in df[list(kwargs.values())[b]].unique():\n",
    "            ent = 0\n",
    "            for k in key_list:\n",
    "                if k.startswith('prob_'+list(kwargs.values())[b]+'_'+j):\n",
    "                    try:\n",
    "                        ent += (-d[k]) * math.log2(d[k])\n",
    "                    except ValueError:\n",
    "                        ent += 0\n",
    "            entr[\"ent_\"+list(kwargs.values())[b]+\"_\"+j] = ent\n",
    "\n",
    "\n",
    "    infogain = {}\n",
    "    key_list = list(entr.keys())\n",
    "    for b in range(2,len(kwargs)):\n",
    "        gain = entr['ent_'+list(kwargs.values())[1]]\n",
    "        \n",
    "        for k in key_list:\n",
    "            if k.startswith(\"ent_\"+list(kwargs.values())[b]):\n",
    "                gain = gain - (entr[k] * (df[df[k.split(\"_\")[1]] == k.split(\"_\")[2]].shape[0]/df.shape[0]))\n",
    "        \n",
    "        infogain[list(kwargs.values())[b]] = round(gain,3)\n",
    "    \n",
    "    \n",
    "    ent_infogain = {\"Entropy\": entr, \"InfoGain\": infogain}\n",
    "    return ent_infogain"
   ]
  },
  {
   "cell_type": "markdown",
   "id": "ff2323ef",
   "metadata": {},
   "source": [
    "The *printer* function takes two arguements, one is the dataset and the other is the dictionary that is returned by the *gain* function. When we call the *gain* function, we get the desired output, but this *printer* function was created after seeing how Prof. Wolffe had displayed his output. This function tries to mimic what he had done but we did include our own representation of the split that happens after we determine which variable is best for the initial split looking at the information gain. We take the dictionary that is returned by *gain* and use the information from there in a bunch of print statements in an effort to display the output more clearly.\n",
    "\n",
    "We take the variable with maximum value from the InfoGain dictionary and split on that variable. The for loop goes through the unique values of that variable and stores the index number of the instances that falls in that unique value as a list inside another list. So the first element in the main list is the list of instances that falls in the unique value. The second element of list is the mode of the response variable for the instances that falls in that unique value."
   ]
  },
  {
   "cell_type": "code",
   "execution_count": 16,
   "id": "d71470c7",
   "metadata": {},
   "outputs": [],
   "source": [
    "def printer(data, dic):\n",
    "    data = pd.read_csv(data, sep = \" \")\n",
    "    \n",
    "    print('{}: {}'.format(\"Training Examples\", data.shape[0]))\n",
    "    print()\n",
    "    print('{}: {}'.format(\"System\", round(list(dic[\"Entropy\"].values())[0], 3)))\n",
    "    print(\"--------------------------------------\")\n",
    "    print()\n",
    "    \n",
    "    \n",
    "    var = []\n",
    "    for i in range(1,len(list(dic[\"Entropy\"]))):\n",
    "        if list(dic[\"Entropy\"])[i].split(\"_\")[1] not in var:\n",
    "            var.append(list(dic[\"Entropy\"])[i].split(\"_\")[1])\n",
    "            p = list(dic[\"Entropy\"])[i].split(\"_\")[1]\n",
    "            print (p)\n",
    "            print()\n",
    "            for j in range(len(list(dic[\"Entropy\"]))):\n",
    "                if list(dic[\"Entropy\"])[j].split(\"_\")[1] == p:\n",
    "                    print ('{}: {}'.format(list(dic[\"Entropy\"])[j].split(\"_\")[2], round(list(dic[\"Entropy\"].values())[j], 3)))\n",
    "\n",
    "            for k in range(len(list(dic[\"InfoGain\"]))):\n",
    "                if list(dic[\"InfoGain\"])[k] == p:\n",
    "                    print ('{}: {}'.format(\"InfoGain\", list(dic[\"InfoGain\"].values())[k]))\n",
    "            print(\"--------------------------------------\")\n",
    "            \n",
    "    \n",
    "    var = max(dic[\"InfoGain\"], key = dic[\"InfoGain\"].get)\n",
    "    dic1 = {}\n",
    "    print(\"Splitting on\", var)\n",
    "    for i in range(len(data[var].unique())):\n",
    "        dic1[data[var].unique()[i]] = [(data[data[var] == data[var].unique()[i]].index+1).tolist(), data[data[var] == data[var].unique()[i]].Oracle.mode()[0]]\n",
    "    return dic1"
   ]
  },
  {
   "cell_type": "code",
   "execution_count": 17,
   "id": "de368311",
   "metadata": {},
   "outputs": [],
   "source": [
    "treatment = gain(data= \"treatment.data\", dep= \"Oracle\", i1= \"Pulse\", i2= \"BP\", i3 = \"Age\")"
   ]
  },
  {
   "cell_type": "code",
   "execution_count": 18,
   "id": "8d10d99f",
   "metadata": {},
   "outputs": [
    {
     "name": "stdout",
     "output_type": "stream",
     "text": [
      "Training Examples: 5\n",
      "\n",
      "System: 0.971\n",
      "--------------------------------------\n",
      "\n",
      "Pulse\n",
      "\n",
      "Strong: 0.918\n",
      "Weak: 1.0\n",
      "InfoGain: 0.02\n",
      "--------------------------------------\n",
      "BP\n",
      "\n",
      "Normal: 0.0\n",
      "Abnormal: 0.0\n",
      "InfoGain: 0.971\n",
      "--------------------------------------\n",
      "Age\n",
      "\n",
      "Teen: 0.0\n",
      "Adult: 0.0\n",
      "Senior: 0.918\n",
      "InfoGain: 0.42\n",
      "--------------------------------------\n",
      "Splitting on BP\n"
     ]
    },
    {
     "data": {
      "text/plain": [
       "{'Normal': [[1, 2, 3], 'Pos'], 'Abnormal': [[4, 5], 'Neg']}"
      ]
     },
     "execution_count": 18,
     "metadata": {},
     "output_type": "execute_result"
    }
   ],
   "source": [
    "printer(\"treatment.data\", treatment)"
   ]
  },
  {
   "cell_type": "markdown",
   "id": "32d15491",
   "metadata": {},
   "source": [
    "----------"
   ]
  },
  {
   "cell_type": "code",
   "execution_count": 19,
   "id": "3e23576e",
   "metadata": {},
   "outputs": [],
   "source": [
    "fishing = gain(data= \"fishing(1).data\", dep= \"Oracle\", i1= \"Wind\", i2= \"Air\", i3 = \"Water\", i4 = \"Sky\")"
   ]
  },
  {
   "cell_type": "code",
   "execution_count": 20,
   "id": "b6b34664",
   "metadata": {},
   "outputs": [
    {
     "name": "stdout",
     "output_type": "stream",
     "text": [
      "Training Examples: 14\n",
      "\n",
      "System: 0.985\n",
      "--------------------------------------\n",
      "\n",
      "Wind\n",
      "\n",
      "Strong: 0.811\n",
      "Weak: 0.918\n",
      "InfoGain: 0.128\n",
      "--------------------------------------\n",
      "Air\n",
      "\n",
      "Hot: 0.863\n",
      "Cold: 0.985\n",
      "InfoGain: 0.061\n",
      "--------------------------------------\n",
      "Water\n",
      "\n",
      "Warm: 0.811\n",
      "Moderate: 0.918\n",
      "Cool: 0.811\n",
      "InfoGain: 0.128\n",
      "--------------------------------------\n",
      "Sky\n",
      "\n",
      "Sunny: 0.811\n",
      "Cloudy: 0.0\n",
      "Rainy: 0.722\n",
      "InfoGain: 0.264\n",
      "--------------------------------------\n",
      "Splitting on Sky\n"
     ]
    },
    {
     "data": {
      "text/plain": [
       "{'Sunny': [[1, 2, 7, 8, 9, 11, 12, 13], 'Yes'],\n",
       " 'Cloudy': [[3], 'Yes'],\n",
       " 'Rainy': [[4, 5, 6, 10, 14], 'No']}"
      ]
     },
     "execution_count": 20,
     "metadata": {},
     "output_type": "execute_result"
    }
   ],
   "source": [
    "printer(\"fishing(1).data\", fishing)"
   ]
  },
  {
   "cell_type": "markdown",
   "id": "10b32205",
   "metadata": {},
   "source": [
    "------------"
   ]
  },
  {
   "cell_type": "code",
   "execution_count": 21,
   "id": "3ada8987",
   "metadata": {},
   "outputs": [],
   "source": [
    "donors = gain(data= \"donors.data\", dep= \"Oracle\", i1= \"Status\", i2= \"Party\")"
   ]
  },
  {
   "cell_type": "code",
   "execution_count": 22,
   "id": "c4f46814",
   "metadata": {},
   "outputs": [
    {
     "name": "stdout",
     "output_type": "stream",
     "text": [
      "Training Examples: 20\n",
      "\n",
      "System: 0.881\n",
      "--------------------------------------\n",
      "\n",
      "Status\n",
      "\n",
      "Single: 0.0\n",
      "Married: 0.722\n",
      "Family: 0.985\n",
      "InfoGain: 0.175\n",
      "--------------------------------------\n",
      "Party\n",
      "\n",
      "Democrat: 0.845\n",
      "Republican: 0.918\n",
      "InfoGain: 0.003\n",
      "--------------------------------------\n",
      "Splitting on Status\n"
     ]
    },
    {
     "data": {
      "text/plain": [
       "{'Single': [[1, 11, 15], 'No'],\n",
       " 'Married': [[2, 4, 5, 7, 8, 12, 13, 17, 18, 19], 'No'],\n",
       " 'Family': [[3, 6, 9, 10, 14, 16, 20], 'Yes']}"
      ]
     },
     "execution_count": 22,
     "metadata": {},
     "output_type": "execute_result"
    }
   ],
   "source": [
    "printer(\"donors.data\", donors)"
   ]
  },
  {
   "cell_type": "markdown",
   "id": "b0ad07e7",
   "metadata": {},
   "source": [
    "## Conclusion\n",
    "\n",
    "Most of the work was completed in the first part of the project where we had to calculate the information gain. Because of this reason, part 2 of the project was very straightforward which only included the task of splitting the variable and making a decision based on the maximum occurance of instances."
   ]
  }
 ],
 "metadata": {
  "kernelspec": {
   "display_name": "Python 3 (ipykernel)",
   "language": "python",
   "name": "python3"
  },
  "language_info": {
   "codemirror_mode": {
    "name": "ipython",
    "version": 3
   },
   "file_extension": ".py",
   "mimetype": "text/x-python",
   "name": "python",
   "nbconvert_exporter": "python",
   "pygments_lexer": "ipython3",
   "version": "3.9.12"
  }
 },
 "nbformat": 4,
 "nbformat_minor": 5
}
