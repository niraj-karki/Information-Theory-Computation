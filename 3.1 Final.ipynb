{
 "cells": [
  {
   "cell_type": "markdown",
   "id": "428061f5",
   "metadata": {},
   "source": [
    "## Approach\n",
    "\n",
    "Our approach to solving this problem involves creating 3 functions, one of which will compute the fraction part of the entropy formula, another will take that value and put it in the entropy formula and the last one will compute information gain from the entropies that gets calculated."
   ]
  },
  {
   "cell_type": "code",
   "execution_count": 1,
   "id": "d8c2ab0e",
   "metadata": {},
   "outputs": [],
   "source": [
    "# Imporing the required library\n",
    "import pandas as pd\n",
    "import math"
   ]
  },
  {
   "cell_type": "markdown",
   "id": "ec542588",
   "metadata": {},
   "source": [
    "### Function to get the fraction part of the entropy formula\n",
    "\n",
    "The *prob* function makes use of use of \\*\\*kwargs, which is a way to pass variable length list of keyworded arguments. There is a certain pattern the arguments are to be passed in the function, which is the name of the data followed by the name of the dependent variable which is then followed by the names of the independent variables. The first for loop takes the dependent variable and loops through it's unique value getting the proportion of occurance of each of these values. The second for loop is a nested for loop that loops through the unique values of the dependent variable and inside that loop there is another for loop that loops through the independent variables passed in as the arguments and the innermost for loop loops through the different groups each of those independent variables has. It then updates a dictionary where the keys take the form of \"prob_(Independent variable)_(Group of the independent variable)_(Group of the dependent variable)\" for eg. \"prob_Pulse_Strong_Pos\". The value is the proportion of times we see a strong pulse for which the Oracle is Positive out of all strong pulse cases. "
   ]
  },
  {
   "cell_type": "code",
   "execution_count": 2,
   "id": "37a6d036",
   "metadata": {},
   "outputs": [],
   "source": [
    "def prob(**kwargs):\n",
    "    kwargs = list(kwargs.values())\n",
    "    df = pd.read_csv(kwargs[0], sep=\" \")\n",
    "    d = {}\n",
    "    \n",
    "    for i in df[kwargs[1]].unique():\n",
    "        d['Prob_'+kwargs[1]+'_'+i] = df[df[kwargs[1]] == i].shape[0]/df.shape[0]\n",
    "\n",
    "\n",
    "    for i in df[kwargs[1]].unique():\n",
    "        for a in range(2,len(kwargs)):\n",
    "            for j in df[kwargs[a]].unique():\n",
    "                d[\"prob_\"+kwargs[a]+'_'+j+\"_\"+i] = df[df[kwargs[1]] == i][df[df[kwargs[1]] == i][kwargs[a]] == j].shape[0] / df[df[kwargs[a]] == j].shape[0]\n",
    "    \n",
    "    return d"
   ]
  },
  {
   "cell_type": "code",
   "execution_count": 3,
   "id": "ba57daf2",
   "metadata": {},
   "outputs": [
    {
     "data": {
      "text/plain": [
       "{'Prob_Oracle_Pos': 0.45,\n",
       " 'Prob_Oracle_Neg': 0.55,\n",
       " 'prob_Pulse_Strong_Pos': 0.4166666666666667,\n",
       " 'prob_Pulse_Weak_Pos': 0.5,\n",
       " 'prob_BP_Normal_Pos': 0.7777777777777778,\n",
       " 'prob_BP_Abnormal_Pos': 0.18181818181818182,\n",
       " 'prob_Age_Teen_Pos': 0.7142857142857143,\n",
       " 'prob_Age_Adult_Pos': 0.5,\n",
       " 'prob_Age_Senior_Pos': 0.14285714285714285,\n",
       " 'prob_Pulse_Strong_Neg': 0.5833333333333334,\n",
       " 'prob_Pulse_Weak_Neg': 0.5,\n",
       " 'prob_BP_Normal_Neg': 0.2222222222222222,\n",
       " 'prob_BP_Abnormal_Neg': 0.8181818181818182,\n",
       " 'prob_Age_Teen_Neg': 0.2857142857142857,\n",
       " 'prob_Age_Adult_Neg': 0.5,\n",
       " 'prob_Age_Senior_Neg': 0.8571428571428571}"
      ]
     },
     "execution_count": 3,
     "metadata": {},
     "output_type": "execute_result"
    }
   ],
   "source": [
    "p = prob(data= \"sample(1).data\", dep= \"Oracle\", i1= \"Pulse\", i2= \"BP\", i3= \"Age\")\n",
    "p"
   ]
  },
  {
   "cell_type": "markdown",
   "id": "9518fafa",
   "metadata": {},
   "source": [
    "### Function to get the entropy\n",
    "\n",
    "The *entropy* function also makes use of use of \\*\\*kwargs. Like with *prob* There is a certain pattern the arguments are to be passed in the function, which is the name of the data followed by the dictonary we get from *prob* followed by the name of the dependent variable which is then followed by the names of the independent variables. The first for loop takes the dependent variable and loops through it's unique value calculating the entropy for the response variable. The second for loop is a nested for loop that with the help of other for loops go through each independent variable and through each of their groups calculating the entropy and appending those entropy values to a dictionary and returning it."
   ]
  },
  {
   "cell_type": "code",
   "execution_count": 4,
   "id": "0af19206",
   "metadata": {},
   "outputs": [],
   "source": [
    "def entropy(**kwargs):\n",
    "    kwargs = list(kwargs.values())\n",
    "    df = pd.read_csv(kwargs[0], sep=\" \")\n",
    "    entr = {}\n",
    "    cls_ent = 0\n",
    "    for i in df[kwargs[2]].unique():\n",
    "        cls_ent += (-(kwargs[1]['Prob_'+kwargs[2]+\"_\"+i]))*math.log2(kwargs[1]['Prob_'+kwargs[2]+\"_\"+i])\n",
    "        \n",
    "    entr[\"ent_\"+kwargs[2]] = cls_ent\n",
    "    \n",
    "    key_list = list(kwargs[1].keys())\n",
    "    for b in range(3,len(kwargs)):\n",
    "        for j in df[kwargs[b]].unique():\n",
    "            ent = 0\n",
    "            for k in key_list:\n",
    "                if k.startswith('prob_'+kwargs[b]+'_'+j):\n",
    "                    try:\n",
    "                        ent += (-kwargs[1][k]) * math.log2(kwargs[1][k])\n",
    "                    except ValueError:\n",
    "                        ent += 0\n",
    "            entr[\"ent_\"+kwargs[b]+\"_\"+j] = ent\n",
    "    return entr"
   ]
  },
  {
   "cell_type": "code",
   "execution_count": 5,
   "id": "55621928",
   "metadata": {},
   "outputs": [
    {
     "data": {
      "text/plain": [
       "{'ent_Oracle': 0.9927744539878084,\n",
       " 'ent_Pulse_Strong': 0.9798687566511528,\n",
       " 'ent_Pulse_Weak': 1.0,\n",
       " 'ent_BP_Normal': 0.7642045065086203,\n",
       " 'ent_BP_Abnormal': 0.6840384356390417,\n",
       " 'ent_Age_Teen': 0.863120568566631,\n",
       " 'ent_Age_Adult': 1.0,\n",
       " 'ent_Age_Senior': 0.5916727785823275}"
      ]
     },
     "execution_count": 5,
     "metadata": {},
     "output_type": "execute_result"
    }
   ],
   "source": [
    "e = entropy(data= \"sample(1).data\", dic = p, dep= \"Oracle\", i1= \"Pulse\", i2= \"BP\", i3= \"Age\")\n",
    "e"
   ]
  },
  {
   "cell_type": "markdown",
   "id": "7adc3537",
   "metadata": {},
   "source": [
    "### Function to get the information gain\n",
    "\n",
    "The *infogain* function also makes use of use of \\*\\*kwargs. Like with *prob* There is a certain pattern the arguments are to be passed in the function, which is the name of the data followed by the dictonary we get from *entropy* followed by the name of the dependent variable which is then followed by the names of the independent variables. The function is pretty straight forward. There is one nested loop which loops through the independent variables that we passed. The gain variable holds the entropy of the dependent variable which is used to subtract the entropy of all other variables. We go through each of the keys in the dictionary and match the key's name with the name of the independent variable passed as arguments in the function. Each group value for one variable gets subtracted from the gain and the result is stored in the infogain dictionary which is then returned."
   ]
  },
  {
   "cell_type": "code",
   "execution_count": 6,
   "id": "cd9e7aa3",
   "metadata": {},
   "outputs": [],
   "source": [
    "def infogain(**kwargs):\n",
    "    kwargs = list(kwargs.values())\n",
    "    df = pd.read_csv(kwargs[0], sep=\" \")\n",
    "    infogain = {}\n",
    "    key_list = list(kwargs[1].keys())\n",
    "    for b in range(3,len(kwargs)):\n",
    "        gain = kwargs[1]['ent_'+kwargs[2]]\n",
    "        \n",
    "        for k in key_list:\n",
    "            if k.startswith(\"ent_\"+kwargs[b]):\n",
    "                gain = gain - (kwargs[1][k] * (df[df[k.split(\"_\")[1]] == k.split(\"_\")[2]].shape[0]/df.shape[0]))\n",
    "        \n",
    "        infogain['infogain_'+ kwargs[b]] = gain\n",
    "        \n",
    "    return infogain"
   ]
  },
  {
   "cell_type": "code",
   "execution_count": 7,
   "id": "8bd70a80",
   "metadata": {},
   "outputs": [
    {
     "data": {
      "text/plain": [
       "{'infogain_Pulse': 0.004853199997116753,\n",
       " 'infogain_BP': 0.27266128645745624,\n",
       " 'infogain_Age': 0.18359678248567296}"
      ]
     },
     "execution_count": 7,
     "metadata": {},
     "output_type": "execute_result"
    }
   ],
   "source": [
    "infogain(data= \"sample(1).data\", dic = e, dep= \"Oracle\", i1= \"Pulse\", i2= \"BP\", i3= \"Age\")"
   ]
  },
  {
   "cell_type": "markdown",
   "id": "cba082de",
   "metadata": {},
   "source": [
    "## Conclusion"
   ]
  },
  {
   "cell_type": "markdown",
   "id": "40b36d28",
   "metadata": {},
   "source": [
    "It was a pretty straightforward project that just involved some using some formulae repeatedly for a number of different independent variables. We could have created one function that did all this and returned what we wanted it to return (proportion or entropy or information gain) but we chose to create three individual functions so that it would be easy to read and process. "
   ]
  },
  {
   "cell_type": "code",
   "execution_count": null,
   "id": "4747341e",
   "metadata": {},
   "outputs": [],
   "source": []
  },
  {
   "cell_type": "code",
   "execution_count": null,
   "id": "e5919dcf",
   "metadata": {},
   "outputs": [],
   "source": []
  },
  {
   "cell_type": "code",
   "execution_count": null,
   "id": "8340acff",
   "metadata": {},
   "outputs": [],
   "source": []
  },
  {
   "cell_type": "code",
   "execution_count": null,
   "id": "d32796be",
   "metadata": {},
   "outputs": [],
   "source": []
  },
  {
   "cell_type": "code",
   "execution_count": null,
   "id": "ce38c0a6",
   "metadata": {},
   "outputs": [],
   "source": []
  },
  {
   "cell_type": "code",
   "execution_count": null,
   "id": "f9e30166",
   "metadata": {},
   "outputs": [],
   "source": []
  },
  {
   "cell_type": "code",
   "execution_count": null,
   "id": "9278f984",
   "metadata": {},
   "outputs": [],
   "source": []
  },
  {
   "cell_type": "code",
   "execution_count": null,
   "id": "2d23fced",
   "metadata": {},
   "outputs": [],
   "source": []
  },
  {
   "cell_type": "code",
   "execution_count": null,
   "id": "916f94f4",
   "metadata": {},
   "outputs": [],
   "source": []
  },
  {
   "cell_type": "code",
   "execution_count": null,
   "id": "592949bc",
   "metadata": {},
   "outputs": [],
   "source": []
  },
  {
   "cell_type": "code",
   "execution_count": null,
   "id": "640ad348",
   "metadata": {},
   "outputs": [],
   "source": []
  },
  {
   "cell_type": "code",
   "execution_count": null,
   "id": "b2d0cb90",
   "metadata": {},
   "outputs": [],
   "source": []
  },
  {
   "cell_type": "code",
   "execution_count": null,
   "id": "5bba9cd5",
   "metadata": {},
   "outputs": [],
   "source": []
  },
  {
   "cell_type": "code",
   "execution_count": null,
   "id": "d2bd9496",
   "metadata": {},
   "outputs": [],
   "source": []
  },
  {
   "cell_type": "code",
   "execution_count": null,
   "id": "91be6dd9",
   "metadata": {},
   "outputs": [],
   "source": []
  },
  {
   "cell_type": "code",
   "execution_count": null,
   "id": "c35bc9c2",
   "metadata": {},
   "outputs": [],
   "source": []
  },
  {
   "cell_type": "code",
   "execution_count": null,
   "id": "ad31d373",
   "metadata": {},
   "outputs": [],
   "source": []
  },
  {
   "cell_type": "code",
   "execution_count": null,
   "id": "765f1964",
   "metadata": {},
   "outputs": [],
   "source": []
  },
  {
   "cell_type": "code",
   "execution_count": 12,
   "id": "9cedd497",
   "metadata": {},
   "outputs": [
    {
     "data": {
      "text/plain": [
       "0.27803730045319414"
      ]
     },
     "execution_count": 12,
     "metadata": {},
     "output_type": "execute_result"
    }
   ],
   "source": [
    "import math\n",
    "math.exp(-1.28)"
   ]
  },
  {
   "cell_type": "code",
   "execution_count": 13,
   "id": "233786a9",
   "metadata": {},
   "outputs": [
    {
     "data": {
      "text/plain": [
       "1.2780373004531942"
      ]
     },
     "execution_count": 13,
     "metadata": {},
     "output_type": "execute_result"
    }
   ],
   "source": [
    "1+0.27803730045319414"
   ]
  },
  {
   "cell_type": "code",
   "execution_count": 14,
   "id": "afbcc6af",
   "metadata": {},
   "outputs": [
    {
     "data": {
      "text/plain": [
       "0.7824497764231124"
      ]
     },
     "execution_count": 14,
     "metadata": {},
     "output_type": "execute_result"
    }
   ],
   "source": [
    "1/1.2780373004531942"
   ]
  },
  {
   "cell_type": "code",
   "execution_count": 11,
   "id": "08341e1a",
   "metadata": {},
   "outputs": [
    {
     "data": {
      "text/plain": [
       "1.28"
      ]
     },
     "execution_count": 11,
     "metadata": {},
     "output_type": "execute_result"
    }
   ],
   "source": [
    "0.82*1.5-0.95+1"
   ]
  },
  {
   "cell_type": "code",
   "execution_count": 15,
   "id": "65e21a95",
   "metadata": {},
   "outputs": [
    {
     "data": {
      "text/plain": [
       "0.03775199999999999"
      ]
     },
     "execution_count": 15,
     "metadata": {},
     "output_type": "execute_result"
    }
   ],
   "source": [
    "0.78*(1-0.78)*(1-0.78)"
   ]
  },
  {
   "cell_type": "code",
   "execution_count": 16,
   "id": "4e813843",
   "metadata": {},
   "outputs": [
    {
     "data": {
      "text/plain": [
       "0.008413200000000001"
      ]
     },
     "execution_count": 16,
     "metadata": {},
     "output_type": "execute_result"
    }
   ],
   "source": [
    "0.82*(1-0.82)*(1.5*0.038)"
   ]
  },
  {
   "cell_type": "code",
   "execution_count": 17,
   "id": "67f52868",
   "metadata": {},
   "outputs": [
    {
     "data": {
      "text/plain": [
       "-0.0018050000000000015"
      ]
     },
     "execution_count": 17,
     "metadata": {},
     "output_type": "execute_result"
    }
   ],
   "source": [
    "0.95*(1-0.95)*(-1*0.038)"
   ]
  },
  {
   "cell_type": "code",
   "execution_count": 18,
   "id": "330b10d3",
   "metadata": {},
   "outputs": [
    {
     "data": {
      "text/plain": [
       "1.51558"
      ]
     },
     "execution_count": 18,
     "metadata": {},
     "output_type": "execute_result"
    }
   ],
   "source": [
    "1.5+0.5*0.038*0.82"
   ]
  },
  {
   "cell_type": "code",
   "execution_count": null,
   "id": "1ffdbb51",
   "metadata": {},
   "outputs": [],
   "source": []
  }
 ],
 "metadata": {
  "kernelspec": {
   "display_name": "Python 3 (ipykernel)",
   "language": "python",
   "name": "python3"
  },
  "language_info": {
   "codemirror_mode": {
    "name": "ipython",
    "version": 3
   },
   "file_extension": ".py",
   "mimetype": "text/x-python",
   "name": "python",
   "nbconvert_exporter": "python",
   "pygments_lexer": "ipython3",
   "version": "3.9.12"
  }
 },
 "nbformat": 4,
 "nbformat_minor": 5
}
